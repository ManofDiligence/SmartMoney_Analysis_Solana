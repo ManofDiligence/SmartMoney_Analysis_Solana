{
 "cells": [
  {
   "cell_type": "markdown",
   "id": "2657800a",
   "metadata": {},
   "source": [
    "## Main API for this Bot"
   ]
  },
  {
   "cell_type": "markdown",
   "id": "e938c1e47c52a7a2",
   "metadata": {
    "collapsed": false
   },
   "source": [
    "1. Get Block Number by Timestamp:\n",
    "https://api.etherscan.io/api\n",
    "   ?module=block\n",
    "   &action=getblocknobytime\n",
    "   &timestamp=1578638524\n",
    "   &closest=before\n",
    "   &apikey=YourApiKeyToken\n",
    "2. Get a list of 'Normal' Transactions By Address:\n",
    "    https://api.etherscan.io/api\n",
    "   ?module=account\n",
    "   &action=txlist\n",
    "   &address=0xc5102fE9359FD9a28f877a67E36B0F050d81a3CC\n",
    "   &startblock=0\n",
    "   &endblock=99999999\n",
    "   &page=1\n",
    "   &offset=10\n",
    "   &sort=asc\n",
    "   &apikey=YourApiKeyToken\n",
    "3. Get Ether Balance for a Single Address\n",
    "    https://api.etherscan.io/api\n",
    "   ?module=account\n",
    "   &action=balance\n",
    "   &address=0xde0b295669a9fd93d5f28d9ec85e40f4cb697bae\n",
    "   &tag=latest\n",
    "   &apikey=YourApiKeyToken\n",
    "4. Get a list of 'ERC20 - Token Transfer Events' by Address\n",
    "    https://api.etherscan.io/api\n",
    "   ?module=account\n",
    "   &action=tokentx\n",
    "   &contractaddress=0x9f8f72aa9304c8b593d555f12ef6589cc3a579a2\n",
    "   &address=0x4e83362442b8d1bec281594cea3050c8eb01311c\n",
    "   &page=1\n",
    "   &offset=100\n",
    "   &startblock=0\n",
    "   &endblock=27025780\n",
    "   &sort=asc\n",
    "   &apikey=YourApiKeyToken"
   ]
  },
  {
   "cell_type": "markdown",
   "id": "abcdbccb",
   "metadata": {},
   "source": [
    "## Library"
   ]
  },
  {
   "cell_type": "code",
   "execution_count": 36,
   "id": "initial_id",
   "metadata": {
    "ExecuteTime": {
     "end_time": "2024-01-15T23:02:04.838586900Z",
     "start_time": "2024-01-15T23:02:04.250110200Z"
    },
    "collapsed": true
   },
   "outputs": [],
   "source": [
    "import requests\n",
    "import time\n",
    "import pandas as pd\n",
    "from datetime import datetime, timedelta\n",
    "import hashlib\n",
    "import hmac\n",
    "import base64\n",
    "import random\n",
    "from urllib.parse import urlencode, quote_plus\n",
    "import http.client\n",
    "import json"
   ]
  },
  {
   "cell_type": "markdown",
   "id": "7c096c59",
   "metadata": {},
   "source": [
    "## Gobal env"
   ]
  },
  {
   "cell_type": "code",
   "execution_count": 37,
   "id": "1cc7d1eacb6ce881",
   "metadata": {
    "ExecuteTime": {
     "end_time": "2024-01-15T23:12:30.252678500Z",
     "start_time": "2024-01-15T23:12:30.237675500Z"
    },
    "collapsed": false
   },
   "outputs": [],
   "source": [
    "api_key_list = ['BJJKDZ5R2KFBZW4GV1MXEPRRU1EJVN2K1G', 'PJ8X4ADB1VBVAQNHTXW13J7TCB46X7THT7', 'F2GDTZ2N53MDKFZ8CSGQR4Y2AHZZTJZH6M']\n",
    "base_url = 'https://api.etherscan.io/api'\n",
    "X_BLOBR_KEY_list = ['j0QM4RJ9PnP5r1J3SnkYBQyVOts7m2tN', 'EElaWmMD94plCowVHeYXRRkqb27WqyXH']\n",
    "dex_tool_base_url = 'https://open-api.dextools.io/free'"
   ]
  },
  {
   "cell_type": "markdown",
   "id": "e4da3069",
   "metadata": {},
   "source": [
    "# helper method that works for all the above api"
   ]
  },
  {
   "cell_type": "code",
   "execution_count": 38,
   "id": "7cfc2a07427bff5a",
   "metadata": {
    "ExecuteTime": {
     "end_time": "2024-01-16T02:13:16.365336600Z",
     "start_time": "2024-01-16T02:13:16.341927Z"
    },
    "collapsed": false
   },
   "outputs": [],
   "source": [
    "def request_helper(module, action, contractaddress, address, timestamp, startblock, endblock):\n",
    "    params = {\n",
    "    'module': module,\n",
    "    'action': action,\n",
    "    'address': address,\n",
    "    'contractaddress': contractaddress,\n",
    "    'timestamp': timestamp,\n",
    "    'startblock': startblock,\n",
    "    'endblock': endblock,\n",
    "    'closest': 'before',\n",
    "    'tag': 'latest',\n",
    "    'apikey': '',\n",
    "    'page': 1,\n",
    "    'offset': 20\n",
    "}\n",
    "    id = random.randint(1, 9633)\n",
    "    id = id % len(api_key_list) \n",
    "    params['apikey'] = api_key_list[id]\n",
    "    response = requests.get(url=base_url, params=params)\n",
    "    return response.json()"
   ]
  },
  {
   "cell_type": "code",
   "execution_count": null,
   "id": "638d101f2d82cdb3",
   "metadata": {
    "ExecuteTime": {
     "end_time": "2024-01-16T02:37:41.854836500Z",
     "start_time": "2024-01-16T02:37:41.797822700Z"
    },
    "collapsed": false
   },
   "outputs": [],
   "source": [
    "def get_cur_timestamp():\n",
    "        # Get the current time in UTC+8\n",
    "    current_time = datetime.now()\n",
    "    # Calculate the start time for the last 60 minutes\n",
    "    start_time = current_time\n",
    "    \n",
    "    # Convert the start time to a timestamp in milliseconds\n",
    "    active_timeStamp = int(start_time.timestamp())\n",
    "    \n",
    "    utc_time = datetime.utcfromtimestamp(active_timeStamp / 1000) + timedelta(hours=8)\n",
    "    date_str = utc_time.strftime('%Y-%m-%d %H:%M:%S')\n",
    "    print(date_str)\n",
    "    print(active_timeStamp)\n",
    "    return active_timeStamp\n",
    "get_cur_timestamp()"
   ]
  },
  {
   "cell_type": "markdown",
   "id": "75597278",
   "metadata": {},
   "source": [
    "## get the ERC-20 token's price"
   ]
  },
  {
   "cell_type": "code",
   "execution_count": null,
   "id": "9a9a63b9",
   "metadata": {},
   "outputs": [],
   "source": [
    "def get_token_price(address):\n",
    "    chain = 'ether'\n",
    "    url = f'/v2/token/{chain}/{address}/price'\n",
    "    # getting the token's price \n",
    "    headers = {\n",
    "    \"X-BLOBR-KEY\": \"j0QM4RJ9PnP5r1J3SnkYBQyVOts7m2tN\"\n",
    "    }\n",
    "    response = requests.get(url=dex_tool_base_url+url, headers=headers)\n",
    "    data = response.json()\n",
    "    return data"
   ]
  },
  {
   "cell_type": "markdown",
   "id": "a495239c",
   "metadata": {},
   "source": [
    "## Current block number of ethereum"
   ]
  },
  {
   "cell_type": "code",
   "execution_count": null,
   "id": "22ffb816",
   "metadata": {},
   "outputs": [],
   "source": [
    "def get_cur_block():\n",
    "    curTimeStamp = get_cur_timestamp()\n",
    "    data = request_helper(module='block', action='getblocknobytime', timestamp=curTimeStamp, contractaddress=None, address=None, endblock='',startblock='')\n",
    "    return data['result']\n",
    "get_cur_block()"
   ]
  },
  {
   "cell_type": "code",
   "execution_count": 75,
   "id": "72c6291a",
   "metadata": {},
   "outputs": [],
   "source": [
    "def convertToEth(token_value, decimal):\n",
    "    eth_value = token_value / (10 ** decimal)\n",
    "    return eth_value"
   ]
  },
  {
   "cell_type": "code",
   "execution_count": 76,
   "id": "b7bfb305f107e0ec",
   "metadata": {
    "ExecuteTime": {
     "end_time": "2024-01-16T02:58:04.896073200Z",
     "start_time": "2024-01-16T02:57:59.913168900Z"
    },
    "collapsed": false
   },
   "outputs": [
    {
     "name": "stdout",
     "output_type": "stream",
     "text": [
      "1970-01-21 01:43:04\n",
      "1705384751\n",
      "Value in ETH: 15000000000.0\n"
     ]
    }
   ],
   "source": [
    "data = request_helper(module='account', action='tokentx', address='0x465fcc902f7b26f1d92c02cdfa384006a1b4dae9', contractaddress=None, startblock='19017054', endblock=get_cur_block(), timestamp='')\n",
    "token_value = int(data['result'][0]['value'])\n",
    "decimal = int(data['result'][0]['tokenDecimal'])\n",
    "\n",
    "eth_value = convertToEth(token_value, decimal)\n",
    "print(\"Value in ETH:\", eth_value)"
   ]
  },
  {
   "cell_type": "code",
   "execution_count": 99,
   "id": "6501f2c8",
   "metadata": {},
   "outputs": [
    {
     "data": {
      "text/plain": [
       "20000000000.0"
      ]
     },
     "execution_count": 99,
     "metadata": {},
     "output_type": "execute_result"
    }
   ],
   "source": [
    "(20000000000000000000) / 10 ** 9"
   ]
  },
  {
   "cell_type": "code",
   "execution_count": 100,
   "id": "5f94c31c",
   "metadata": {},
   "outputs": [
    {
     "data": {
      "text/plain": [
       "536.0"
      ]
     },
     "execution_count": 100,
     "metadata": {},
     "output_type": "execute_result"
    }
   ],
   "source": [
    "20000000000.0 * 0.0000000268"
   ]
  },
  {
   "cell_type": "code",
   "execution_count": 6,
   "id": "cfdcdab3010b8808",
   "metadata": {
    "ExecuteTime": {
     "end_time": "2024-01-15T23:02:08.643708600Z",
     "start_time": "2024-01-15T23:02:08.612701400Z"
    },
    "collapsed": false
   },
   "outputs": [],
   "source": [
    "eth = int(data['result']) / 10**18"
   ]
  },
  {
   "cell_type": "code",
   "execution_count": 7,
   "id": "c158c2721f7b25fc",
   "metadata": {
    "ExecuteTime": {
     "end_time": "2024-01-15T23:02:09.091392900Z",
     "start_time": "2024-01-15T23:02:09.078388800Z"
    },
    "collapsed": false
   },
   "outputs": [
    {
     "data": {
      "text/plain": [
       "2.2931494564740245"
      ]
     },
     "execution_count": 7,
     "metadata": {},
     "output_type": "execute_result"
    }
   ],
   "source": [
    "eth"
   ]
  },
  {
   "cell_type": "code",
   "execution_count": 45,
   "id": "d5417633e3803b0f",
   "metadata": {
    "ExecuteTime": {
     "end_time": "2024-01-15T23:22:34.941208600Z",
     "start_time": "2024-01-15T23:22:34.922192100Z"
    },
    "collapsed": false
   },
   "outputs": [],
   "source": []
  },
  {
   "cell_type": "code",
   "execution_count": 46,
   "id": "c88a815e58357059",
   "metadata": {
    "ExecuteTime": {
     "end_time": "2024-01-15T23:22:35.156606100Z",
     "start_time": "2024-01-15T23:22:35.135601200Z"
    },
    "collapsed": false
   },
   "outputs": [],
   "source": []
  },
  {
   "cell_type": "code",
   "execution_count": 47,
   "id": "6b4453b1916275f2",
   "metadata": {
    "ExecuteTime": {
     "end_time": "2024-01-15T23:22:37.458009500Z",
     "start_time": "2024-01-15T23:22:35.431117600Z"
    },
    "collapsed": false
   },
   "outputs": [
    {
     "data": {
      "text/plain": [
       "{'statusCode': 200,\n",
       " 'data': {'price': 1.2646463580791198e-07,\n",
       "  'priceChain': 4.997921126579462e-11,\n",
       "  'price5m': 9.857158746943813e-08,\n",
       "  'priceChain5m': 3.895579316278381e-11,\n",
       "  'variation5m': 28.297249800427558,\n",
       "  'variationChain5m': 28.297249800427558,\n",
       "  'price1h': 4.293049671599591e-09,\n",
       "  'priceChain1h': 1.6932366817251034e-12,\n",
       "  'variation1h': 2845.7995010989757,\n",
       "  'variationChain1h': 2851.6967004798644,\n",
       "  'price6h': 1.688754243545069e-08,\n",
       "  'priceChain6h': 6.660674462972156e-12,\n",
       "  'variation6h': 648.8634672054752,\n",
       "  'variationChain6h': 650.362617834541,\n",
       "  'price24h': 1.688754243545069e-08,\n",
       "  'priceChain24h': 6.660674462972156e-12,\n",
       "  'variation24h': 648.8634672054752,\n",
       "  'variationChain24h': 650.362617834541}}"
      ]
     },
     "execution_count": 47,
     "metadata": {},
     "output_type": "execute_result"
    }
   ],
   "source": []
  },
  {
   "cell_type": "code",
   "execution_count": 48,
   "id": "5fcddc0d5bbc9041",
   "metadata": {
    "collapsed": false
   },
   "outputs": [],
   "source": [
    "df = pd.read_csv(\"./smart_traders.csv\")"
   ]
  },
  {
   "cell_type": "code",
   "execution_count": null,
   "id": "22efa0e6",
   "metadata": {},
   "outputs": [],
   "source": [
    "df.columns = ['altcoin_smartWallet']\n",
    "wallet_list = df['altcoin_smartWallet'].to_list()"
   ]
  },
  {
   "cell_type": "code",
   "execution_count": null,
   "id": "9fa10345",
   "metadata": {},
   "outputs": [],
   "source": []
  }
 ],
 "metadata": {
  "kernelspec": {
   "display_name": "Python 3.11.5 ('base')",
   "language": "python",
   "name": "python3"
  },
  "language_info": {
   "codemirror_mode": {
    "name": "ipython",
    "version": 3
   },
   "file_extension": ".py",
   "mimetype": "text/x-python",
   "name": "python",
   "nbconvert_exporter": "python",
   "pygments_lexer": "ipython3",
   "version": "3.11.5"
  },
  "vscode": {
   "interpreter": {
    "hash": "b05076d202e4608b4dc0c52f04fe332a76b3c1b2ce421f9f4ad09a57b8621fe3"
   }
  }
 },
 "nbformat": 4,
 "nbformat_minor": 5
}
