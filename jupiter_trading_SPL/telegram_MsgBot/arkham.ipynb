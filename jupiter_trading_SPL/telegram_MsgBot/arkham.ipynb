{
 "cells": [
  {
   "cell_type": "code",
   "execution_count": 1,
   "metadata": {
    "ExecuteTime": {
     "end_time": "2024-01-25T05:56:15.087415Z",
     "start_time": "2024-01-25T05:56:15.060408800Z"
    }
   },
   "outputs": [],
   "source": [
    "import requests\n",
    "import pandas as pd\n",
    "from datetime import datetime, timedelta"
   ]
  },
  {
   "cell_type": "markdown",
   "metadata": {},
   "source": [
    "Golbal variable"
   ]
  },
  {
   "cell_type": "code",
   "execution_count": 35,
   "metadata": {
    "ExecuteTime": {
     "end_time": "2024-01-25T05:54:26.578568300Z",
     "start_time": "2024-01-25T05:54:26.568565800Z"
    }
   },
   "outputs": [],
   "source": [
    "api_key = \"NBDiFihz1pttauNTWoBlVKcGRT7DHYKq\"\n",
    "# NBDiFihz1pttauNTWoBlVKcGRT7DHYKq\n",
    "root_url = \"https://api.arkhamintelligence.com\"\n",
    "headers = {\n",
    "    \"API-Key\": api_key\n",
    "}\n",
    "funds = {\n",
    "    'Grayscale': \"grayscale\",\n",
    "    'BlackRock': \"blackrock\",\n",
    "    'Fidelity': \"fidelity\",\n",
    "    'Bitwise': \"bitwise\",\n",
    "    'VanEck': \"vaneck\",\n",
    "    \n",
    "}\n",
    "cexes ={\n",
    "    'Binance': \"binance\",\n",
    "    'Coinbase': \"coinbase\",\n",
    "    'OKX': \"okx\",\n",
    "    'Bitfinex': \"bitfinex\"\n",
    "}\n",
    "tokens = {\n",
    "    'BTC': \"bitcoin\",\n",
    "    'ETH': \"ethereum\",\n",
    "    \n",
    "}\n",
    "fromArr = [funds['Grayscale'], funds['Fidelity'], funds['BlackRock'], funds['Bitwise'], funds['VanEck']]\n",
    "baseArr = fromArr\n",
    "etherscanRoot = f'https://etherscan.io/tx/'\n",
    "bitcoinRoot = f'https://blockstream.info/tx/'\n",
    "arkhamEntityRoot = f'https://platform.arkhamintelligence.com/explorer/entity/'\n",
    "arkhamAddressRoot = f'https://platform.arkhamintelligence.com/explorer/address/'\n",
    "arkhamTxRoot = f'https://platform.arkhamintelligence.com/explorer/tx/'\n",
    "chatId = '-4160497993'\n",
    "root_url = 'https://api.telegram.org/bot6300061453:AAE9018LlvLtflXz_Cpg9lzFq_uHdWw3Fb0'\n",
    "send_path = f\"{root_url}/sendMessage?chat_id={chatId}&text=\""
   ]
  },
  {
   "cell_type": "code",
   "execution_count": 3,
   "metadata": {
    "ExecuteTime": {
     "end_time": "2024-01-25T05:54:30.371322800Z",
     "start_time": "2024-01-25T05:54:30.366321700Z"
    }
   },
   "outputs": [],
   "source": [
    "\n",
    "class arkham_transfer: # path = \"/transfer\"\n",
    "        \n",
    "        def __init__(self, base=[], chains=[], flow=\"all\", From=[], to=[], tokens=[], timeGte=0, \n",
    "                    timeLte=0, timeLast=\"1m\", valueGte=0, valueLte=0, usdGte=0, usdLte=0, sortKey=\"value\", sortDir=\"desc\", limit=20, offset=100):\n",
    "            self.params = {\n",
    "                \"base\" : base, # ftx, binance, grayscale...\n",
    "                \"chains\" : chains, # ethereum, bitcoin...\n",
    "                \"flow\" : flow, # in, out, default = all\n",
    "                \"from\" : From, # type:binance,despoit:all\n",
    "                \"to\" : to, # just like from\n",
    "                \"tokens\" : tokens, # tokens address\n",
    "                \"timeGte\" : timeGte, #篩選出區塊_時間戳大於或等於特定時間的交易。\n",
    "                \"timeLte\" : timeLte, #篩選出區塊_時間戳<於或等於特定時間的交易。\n",
    "                \"timeLast\" : timeLast, # last 1d, 1h, 1m, 1s\n",
    "                \"valueGte\" : valueGte, # 篩選出超過特定代幣單位價值的轉帳資訊  \n",
    "                \"valueLte\" : valueLte, # 篩選出<過特定代幣單位價值的轉帳資訊\n",
    "                \"usdGte\" : usdGte, # just like valueGte, but in usd base format\n",
    "                \"usdLte\" : usdLte,\n",
    "                \"sortKey\" : sortKey, # \"time\", \"value\", \"usd\"\n",
    "                \"sortDir\" : sortDir, # \"asc\", \"desc\"\n",
    "                \"limit\" : limit, # 返回的轉帳結果數量，預設至20筆。最多10,000筆。\n",
    "                \"offset\" : offset,   \n",
    "            }\n",
    "            self.url = \"/transfers\"\n",
    "        \n",
    "        def set_params(self, params):\n",
    "            self.params = params\n",
    "        def get_params(self):\n",
    "            return self.params\n",
    "        def request_tx(self):\n",
    "            data = requests.get(url=f'{root_url}{self.url}', headers=headers, params=self.params)\n",
    "            if data.status_code == 200:\n",
    "                return data.json()\n",
    "            else:\n",
    "                print(\"Error! \"+str(data.status_code))\n",
    "                return None"
   ]
  },
  {
   "cell_type": "code",
   "execution_count": 4,
   "metadata": {
    "ExecuteTime": {
     "end_time": "2024-01-25T05:55:24.672848600Z",
     "start_time": "2024-01-25T05:55:24.662846400Z"
    },
    "collapsed": false
   },
   "outputs": [],
   "source": [
    "def convertTimeStampToUTCTime(time):\n",
    "    utc_time = datetime.utcfromtimestamp(float(time))\n",
    "    utc_time_plus_8 = utc_time + timedelta(hours=16)\n",
    "    date_str = utc_time_plus_8.strftime('%Y-%m-%d %H:%M:%S')\n",
    "    return date_str\n",
    "def convertBlockTimeToUTCTime(blockTimestamp):\n",
    "    datetimeobj = datetime.strptime(blockTimestamp, '%Y-%m-%dT%H:%M:%SZ')\n",
    "    timestamp = datetimeobj.timestamp()\n",
    "    return convertTimeStampToUTCTime(timestamp)\n",
    "def get_cur_timestamp():\n",
    "        # Get the current time in UTC+8\n",
    "    current_time = datetime.now()\n",
    "    # Calculate the start time for the last 60 minutes\n",
    "    start_time = current_time\n",
    "\n",
    "    # Convert the start time to a timestamp in milliseconds\n",
    "    active_timeStamp = int(start_time.timestamp())*1000\n",
    "\n",
    "    utc_time = datetime.utcfromtimestamp(active_timeStamp/1000) + timedelta(hours=8)\n",
    "    date_str = utc_time.strftime('%Y-%m-%d %H:%M:%S')\n",
    "    print(date_str)\n",
    "    return int(active_timeStamp/1000)\n",
    "def get_last_3_min_timestamp(timeStamp):\n",
    "    timeStamp = float(timeStamp)\n",
    "    utc_time = datetime.utcfromtimestamp(timeStamp) - timedelta(minutes=3)\n",
    "    res = utc_time\n",
    "    utc_time = utc_time + timedelta(hours=8)\n",
    "    date_str = utc_time.strftime('%Y-%m-%d %H:%M:%S')\n",
    "    print(date_str)\n",
    "    return int(res.timestamp())"
   ]
  },
  {
   "cell_type": "code",
   "execution_count": 36,
   "metadata": {
    "ExecuteTime": {
     "end_time": "2024-01-25T06:15:26.560817500Z",
     "start_time": "2024-01-25T06:15:25.716244Z"
    }
   },
   "outputs": [],
   "source": [
    "obj = arkham_transfer()\n",
    "\n",
    "params = {\n",
    "    \"base\": baseArr, \n",
    "    \"flow\" : \"all\",\n",
    "    \"to\": ['coinbase-prime'],\n",
    "    \"timeLast\": \"30d\",\n",
    "    \"tokens\": [tokens['BTC'], tokens['ETH']],\n",
    "    \"sortKey\": \"time\",\n",
    "    \"valueGte\" : 0.1, # 篩選出超過特定代幣單位價值的轉帳資訊  \n",
    "    \"sortDir\": \"desc\",\n",
    "    \"limit\": 10000,\n",
    "}\n",
    "obj.set_params(params)\n",
    "\n"
   ]
  },
  {
   "cell_type": "code",
   "execution_count": 37,
   "metadata": {},
   "outputs": [
    {
     "data": {
      "text/plain": [
       "{'base': ['grayscale', 'fidelity', 'blackrock', 'bitwise', 'vaneck'],\n",
       " 'flow': 'all',\n",
       " 'to': ['coinbase-prime'],\n",
       " 'timeLast': '30d',\n",
       " 'tokens': ['bitcoin', 'ethereum'],\n",
       " 'sortKey': 'time',\n",
       " 'valueGte': 0.1,\n",
       " 'sortDir': 'desc',\n",
       " 'limit': 10000}"
      ]
     },
     "execution_count": 37,
     "metadata": {},
     "output_type": "execute_result"
    }
   ],
   "source": [
    "obj.get_params()\n",
    "\n"
   ]
  },
  {
   "cell_type": "code",
   "execution_count": 38,
   "metadata": {},
   "outputs": [
    {
     "name": "stdout",
     "output_type": "stream",
     "text": [
      "Error! 404\n"
     ]
    }
   ],
   "source": [
    "obj.request_tx()\n",
    "\n"
   ]
  },
  {
   "cell_type": "code",
   "execution_count": 8,
   "metadata": {},
   "outputs": [],
   "source": [
    "# toAddress would probably be a list of address labeled as a entity name\n",
    "# just loop through the toAddress list and find the first labeled address and get the entity name then done, \n",
    "# seem as the list of fromAddress \n",
    "# EntityA: len(toAddress), EntityB: len(FromAddress)\n",
    "# Transfer value = 'fromValue'\n",
    "# we want:\n",
    "# 1. ['fromAddress']['arkhamEntity']['name']\n",
    "# or ['fromAddresses'][n]['arkhamEntity']['name']"
   ]
  },
  {
   "cell_type": "markdown",
   "metadata": {},
   "source": [
    "# examples\n"
   ]
  },
  {
   "cell_type": "code",
   "execution_count": 9,
   "metadata": {},
   "outputs": [],
   "source": [
    "data = {'id': '0x5535683927cb482040f99efba1831fababea2a7d5087c2febe866601d6799d85_183',\n",
    " 'transactionHash': '0x5535683927cb482040f99efba1831fababea2a7d5087c2febe866601d6799d85',\n",
    " 'fromAddress': {'address': '0xCD531Ae9EFCCE479654c4926dec5F6209531Ca7b',\n",
    "  'chain': 'ethereum',\n",
    "  'arkhamEntity': {'name': 'Coinbase Prime',\n",
    "   'note': '',\n",
    "   'id': 'coinbase-prime',\n",
    "   'type': 'cex',\n",
    "   'service': None,\n",
    "   'addresses': None,\n",
    "   'website': 'https://www.coinbase.com/prime',\n",
    "   'twitter': 'https://twitter.com/CoinbaseInsto'},\n",
    "  'isUserAddress': False,\n",
    "  'contract': False},\n",
    " 'fromIsContract': False,\n",
    " 'toAddress': {'address': '0x404De972e8138C4982ace8Bdd7fc0E755DE33AFd',\n",
    "  'chain': 'ethereum',\n",
    "  'arkhamEntity': {'name': 'Bitwise',\n",
    "   'note': '',\n",
    "   'id': 'bitwise',\n",
    "   'type': 'fund',\n",
    "   'service': None,\n",
    "   'addresses': None,\n",
    "   'website': 'https://bitwiseinvestments.com/',\n",
    "   'twitter': 'https://twitter.com/BitwiseInvest'},\n",
    "  'arkhamLabel': {'name': 'DeFi Crypto Index Fund',\n",
    "   'address': '0x404De972e8138C4982ace8Bdd7fc0E755DE33AFd',\n",
    "   'chainType': 'evm'},\n",
    "  'isUserAddress': False,\n",
    "  'contract': False},\n",
    " 'toIsContract': False,\n",
    " 'tokenAddress': '0x1f9840a85d5aF5bf1D1762F925BDADdC4201F984',\n",
    " 'type': 'token',\n",
    " 'blockTimestamp': '2024-01-25T07:54:35Z',\n",
    " 'blockNumber': 19082268,\n",
    " 'blockHash': '0x4cc147529150969309227174d1cbb054815127c1d565562603b14d79d8447b05',\n",
    " 'tokenName': 'Uniswap',\n",
    " 'tokenSymbol': 'UNI',\n",
    " 'tokenDecimals': 18,\n",
    " 'unitValue': 5270.000000000001,\n",
    " 'tokenId': 'uniswap',\n",
    " 'historicalUSD': 30671.400000000005,\n",
    " 'chain': 'ethereum'}"
   ]
  },
  {
   "cell_type": "code",
   "execution_count": 10,
   "metadata": {},
   "outputs": [
    {
     "name": "stdout",
     "output_type": "stream",
     "text": [
      "Coinbase Prime\n",
      "2024-01-25 15:54:35\n"
     ]
    }
   ],
   "source": [
    "print(data['fromAddress']['arkhamEntity']['name'])\n",
    "print(convertBlockTimeToUTCTime(data['blockTimestamp']))"
   ]
  },
  {
   "cell_type": "markdown",
   "metadata": {},
   "source": [
    "## Examples of message"
   ]
  },
  {
   "cell_type": "markdown",
   "metadata": {},
   "source": [
    "Network: Ethereum (1)\n",
    "Transaction Hash: 0x..... (should be a hyperlink) (1)\n",
    "State: Successful (1)\n",
    "Block: #3123213 (1)\n",
    "Time: 3 小时 前( 1月25, 2024 15:54:35 UTC+8) (1)\n",
    "From: EntityA (1)\n",
    "To: EntityB (1)\n",
    "Value: 1 ETH ($2330 USD) (1)\n",
    "\n",
    "網路：以太坊 (1)\n",
    "交易哈希：0x.....（應該是超連結）(1)\n",
    "狀態：成功 (1)\n",
    "區塊：#3123213 (1)\n",
    "時間: 3小時前( 2024年1月25日 15:54:35 UTC+8) (1)\n",
    "來自：實體A (1)\n",
    "至：實體B (1)\n",
    "價值：1 ETH（2330 美元）(1)\n"
   ]
  },
  {
   "cell_type": "code",
   "execution_count": 19,
   "metadata": {},
   "outputs": [],
   "source": [
    "def findTheMostValueAddress(addressList):\n",
    "    bestValue = None\n",
    "    resEntity, resAddress, resLabel, resChain  = None, None, None, None\n",
    "    for address in addressList:\n",
    "        each = address['address']\n",
    "        curValue = address['value']\n",
    "        if bestValue == None: \n",
    "            bestValue = curValue\n",
    "            if 'arkhamLabel' in each: resLabel = each['arkhamLabel']['name']\n",
    "            if 'chain' in each:\n",
    "                resChain = each['chain']\n",
    "            if 'arkhamEntity' in each:\n",
    "                resEntity = each['arkhamEntity']['name']\n",
    "            if 'address' in each:\n",
    "                resAddress = each['address']\n",
    "        if curValue > bestValue:\n",
    "            if 'arkhamLabel' in each: resLabel = each['arkhamLabel']['name']\n",
    "            if 'chain' in each:\n",
    "                resChain = each['chain']\n",
    "            if 'arkhamEntity' in each:\n",
    "                resEntity = each['arkhamEntity']['name']\n",
    "            if 'address' in each:\n",
    "                resAddress = each['address']\n",
    "            bestValue = curValue\n",
    "    \n",
    "    return resChain, resEntity, resLabel, resAddress, bestValue"
   ]
  },
  {
   "cell_type": "code",
   "execution_count": 27,
   "metadata": {
    "collapsed": false
   },
   "outputs": [],
   "source": [
    "def process(tx):\n",
    "    \n",
    "    try:\n",
    "        # divide all the userful data\n",
    "        chain,txhash,block,time,From,to,value = None,None,None,None,None,None,None\n",
    "        fromArkhamLabeledName, USDValue, toArkhamLabeledName = None, None, None\n",
    "        fromAddress, toAddress, toEntity, fromEntity, toValue = None, None, None, None, None\n",
    "        # fromAddresses or fromAddress\n",
    "        # toAddresses or toAddress\n",
    "        # to find the token name, the network, the from's entity, and the to's entity\n",
    "        \n",
    "        # from entity\n",
    "        if 'fromAddress' in tx:\n",
    "            From = tx['fromAddress']\n",
    "            if 'arkhamLabel' in From: fromArkhamLabeledName = From['arkhamLabel']['name']\n",
    "            chain = From['chain']\n",
    "            if 'arkhamEntity' in From: fromEntity = From['arkhamEntity']['name']\n",
    "            if 'address' in From: fromAddress = From['address']\n",
    "        else: # fromAddresses\n",
    "            addressList = tx['fromAddresses']\n",
    "            for address in addressList:\n",
    "                each = address['address']\n",
    "                if 'arkhamLabel' in each: fromArkhamLabeledName = each['arkhamLabel']['name']\n",
    "                if 'chain' in each:\n",
    "                    chain = each['chain']\n",
    "                if 'arkhamEntity' in each:\n",
    "                    fromEntity = each['arkhamEntity']['name']\n",
    "                if 'address' in each: \n",
    "                    fromAddress = each['address']\n",
    "                if chain != None and fromEntity != None: break\n",
    "                \n",
    "        # to entity\n",
    "        if 'toAddress' in tx:\n",
    "            to = tx['toAddress']\n",
    "            if 'arkhamLabel' in to: toArkhamLabeledName = to['arkhamLabel']['name']\n",
    "            chain = to['chain']\n",
    "            if 'arkhamEntity' in to: toEntity = to['arkhamEntity']['name']\n",
    "            if 'address' in to: toAddress = to['address']\n",
    "        else: # toAddresses\n",
    "            addressList = tx['toAddresses']\n",
    "            chain, toEntity, toArkhamLabeledName, toAddress, toValue = findTheMostValueAddress(addressList=addressList)\n",
    "\n",
    "        if 'transactionHash' in tx:\n",
    "            txhash = tx['transactionHash'] \n",
    "        elif 'txid' in tx:\n",
    "            txhash = tx['txid']\n",
    "        if 'blockTimestamp' in tx:\n",
    "            time =str(convertBlockTimeToUTCTime(tx['blockTimestamp'])) + \" UTC+8\"\n",
    "        if 'blockNumber' in tx:\n",
    "            block = \"#\"+str(tx['blockNumber'])\n",
    "        elif 'blockHeight' in tx:\n",
    "            block = \"#\"+str(tx['blockHeight'])\n",
    "        if toValue == None: toValue = 0\n",
    "        if 'fromValue' in tx:\n",
    "            # alpha value\n",
    "            if 'toValue' in tx:\n",
    "                toValue = float(tx['toValue'])\n",
    "            value = tx['fromValue']\n",
    "            if float(toValue) > float(value):\n",
    "                value = float(toValue)\n",
    "        else:\n",
    "            if 'toValue' in tx:\n",
    "                toValue = float(tx['toValue'])\n",
    "            value = tx[\"unitValue\"]\n",
    "            if float(toValue) > float(value):\n",
    "                value = float(toValue)\n",
    "        USDValue = f\"(${tx['historicalUSD']} USD)\"\n",
    "        # convert them to readable text\n",
    "        if chain == 'ethereum':\n",
    "            arkhamHash = arkhamTxRoot+txhash\n",
    "            txhash = etherscanRoot+txhash\n",
    "            valueFormat = 'ETH'\n",
    "        elif chain == 'bitcoin':\n",
    "            arkhamHash = arkhamTxRoot+txhash\n",
    "            txhash = bitcoinRoot+txhash\n",
    "            valueFormat = 'BTC'\n",
    "        else:\n",
    "            arkhamHash = arkhamTxRoot+txhash\n",
    "            print(\"error: \"+txhash)\n",
    "        if fromArkhamLabeledName == None: fromArkhamLabeledName = '(unlabeled)'\n",
    "        if toArkhamLabeledName == None: toArkhamLabeledName = '(unlabeled)'\n",
    "        # toLink = f'<a href=\"{arkhamEntityRoot}{to.lower()}\">{toArkhamLabeledName}</a>'\n",
    "        # fromLink = f'<a href=\"{arkhamEntityRoot}{From.lower()}\">{fromArkhamLabeledName}</a>'\n",
    "        msg = f\"網路: {chain}\\n交易哈希: {txhash}\\n狀態: 成功\\n區塊: {block}\\n時間: {time}\\nFrom: {fromEntity}: {fromArkhamLabeledName} ({fromAddress})\\nTo: {toEntity}: {toArkhamLabeledName} ({toAddress})\\n價值: {value} {valueFormat} {USDValue} \\nCheck it on Arkham! => {arkhamHash}\"\n",
    "        # send it to the telegram chat\n",
    "        print(msg)\n",
    "    except Exception as e:\n",
    "        print(\"發生異常：\", str(e))\n",
    "        print(\"txHash: \"+txhash)\n",
    "    \n",
    "    "
   ]
  },
  {
   "cell_type": "code",
   "execution_count": 28,
   "metadata": {},
   "outputs": [
    {
     "name": "stdout",
     "output_type": "stream",
     "text": [
      "Error! 404\n"
     ]
    }
   ],
   "source": [
    "obj.get_params()\n",
    "obj.request_tx()"
   ]
  },
  {
   "cell_type": "code",
   "execution_count": 14,
   "metadata": {},
   "outputs": [
    {
     "name": "stdout",
     "output_type": "stream",
     "text": [
      "Error! 404\n"
     ]
    },
    {
     "ename": "TypeError",
     "evalue": "'NoneType' object is not subscriptable",
     "output_type": "error",
     "traceback": [
      "\u001b[0;31m---------------------------------------------------------------------------\u001b[0m",
      "\u001b[0;31mTypeError\u001b[0m                                 Traceback (most recent call last)",
      "Cell \u001b[0;32mIn[14], line 2\u001b[0m\n\u001b[1;32m      1\u001b[0m data \u001b[38;5;241m=\u001b[39m obj\u001b[38;5;241m.\u001b[39mrequest_tx()\n\u001b[0;32m----> 2\u001b[0m tx_list \u001b[38;5;241m=\u001b[39m \u001b[43mdata\u001b[49m\u001b[43m[\u001b[49m\u001b[38;5;124;43m'\u001b[39;49m\u001b[38;5;124;43mtransfers\u001b[39;49m\u001b[38;5;124;43m'\u001b[39;49m\u001b[43m]\u001b[49m\n\u001b[1;32m      4\u001b[0m \u001b[38;5;28;01mfor\u001b[39;00m tx \u001b[38;5;129;01min\u001b[39;00m tx_list:\n\u001b[1;32m      6\u001b[0m     msg \u001b[38;5;241m=\u001b[39m process(tx)\n",
      "\u001b[0;31mTypeError\u001b[0m: 'NoneType' object is not subscriptable"
     ]
    }
   ],
   "source": [
    "data = obj.request_tx()\n",
    "tx_list = data['transfers']\n",
    "\n",
    "for tx in tx_list:\n",
    "    \n",
    "    msg = process(tx)\n",
    "    if msg != None: requests.get(send_path+msg)"
   ]
  },
  {
   "cell_type": "code",
   "execution_count": null,
   "metadata": {
    "ExecuteTime": {
     "end_time": "2024-01-25T06:15:33.793240300Z",
     "start_time": "2024-01-25T06:15:33.781237400Z"
    }
   },
   "outputs": [
    {
     "name": "stdout",
     "output_type": "stream",
     "text": [
      "{'txid': '63d5b95a56d050c7754d9311d22fc19ff086f4e7bf1d955406518cb4c6b1e496', 'blockHash': '00000000000000000003b48409bfda612c422d06f576527ae9bcc8b9381d36bb', 'blockHeight': 827244, 'blockTimestamp': '2024-01-25T02:40:01Z', 'unitValue': 56.57822962, 'historicalUSD': 2262054.19843722, 'toAddress': {'address': '3FM9vDYsN2iuMPKWjAcqgyahdwdrUxhbJ3', 'chain': 'bitcoin', 'arkhamEntity': {'name': 'VanEck', 'note': '', 'id': 'vaneck', 'type': 'fund', 'service': None, 'addresses': None, 'website': 'https://www.vaneck.com', 'twitter': 'https://twitter.com/vaneck_us'}, 'arkhamLabel': {'name': 'HODL Bitcoin ETF', 'address': '3FM9vDYsN2iuMPKWjAcqgyahdwdrUxhbJ3', 'chainType': 'bitcoin'}, 'isUserAddress': False}, 'fromCoinbase': False, 'fromAddresses': [{'address': {'address': 'bc1qfcmkafyvsa8r72uv0ahcv2qz9ad7m2g34rnfd5', 'chain': 'bitcoin', 'arkhamEntity': {'name': 'Gemini', 'note': '', 'id': 'gemini', 'type': 'cex', 'service': None, 'addresses': None, 'website': 'https://gemini.com', 'twitter': 'https://twitter.com/Gemini', 'crunchbase': 'https://www.crunchbase.com/organization/gemini-99b2', 'linkedin': 'https://www.linkedin.com/company/geminitrust'}, 'isUserAddress': False}, 'value': 56.946803}], 'fromValue': 56.946803}\n"
     ]
    }
   ],
   "source": [
    "while True:\n",
    "    data = obj.request_tx()\n",
    "    tx_list = data['transfers']\n",
    "    for tx in tx_list:\n",
    "        process(tx)\n",
    "    "
   ]
  },
  {
   "cell_type": "code",
   "execution_count": null,
   "metadata": {
    "ExecuteTime": {
     "end_time": "2024-01-25T04:46:05.399772700Z",
     "start_time": "2024-01-25T04:46:05.398771700Z"
    }
   },
   "outputs": [],
   "source": []
  }
 ],
 "metadata": {
  "kernelspec": {
   "display_name": "Python 3.11.5 ('base')",
   "language": "python",
   "name": "python3"
  },
  "language_info": {
   "codemirror_mode": {
    "name": "ipython",
    "version": 3
   },
   "file_extension": ".py",
   "mimetype": "text/x-python",
   "name": "python",
   "nbconvert_exporter": "python",
   "pygments_lexer": "ipython3",
   "version": "3.11.5"
  },
  "orig_nbformat": 4,
  "vscode": {
   "interpreter": {
    "hash": "b05076d202e4608b4dc0c52f04fe332a76b3c1b2ce421f9f4ad09a57b8621fe3"
   }
  }
 },
 "nbformat": 4,
 "nbformat_minor": 2
}
